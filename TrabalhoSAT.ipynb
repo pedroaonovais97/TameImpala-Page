{
  "nbformat": 4,
  "nbformat_minor": 0,
  "metadata": {
    "colab": {
      "name": "TrabalhoSAT.ipynb",
      "provenance": [],
      "collapsed_sections": [],
      "authorship_tag": "ABX9TyPlhh5gLi2hsSlJ0XoKyZ8i",
      "include_colab_link": true
    },
    "kernelspec": {
      "name": "python3",
      "display_name": "Python 3"
    },
    "language_info": {
      "name": "python"
    }
  },
  "cells": [
    {
      "cell_type": "markdown",
      "metadata": {
        "id": "view-in-github",
        "colab_type": "text"
      },
      "source": [
        "<a href=\"https://colab.research.google.com/github/pedroaonovais97/TameImpala-Page/blob/main/TrabalhoSAT.ipynb\" target=\"_parent\"><img src=\"https://colab.research.google.com/assets/colab-badge.svg\" alt=\"Open In Colab\"/></a>"
      ]
    },
    {
      "cell_type": "markdown",
      "metadata": {
        "id": "Z_7D5RUngKUr"
      },
      "source": [
        "A : Usar camisola Amarela\n",
        "R : Ser de Ribeirão\n",
        "B : Usar bigode\n",
        "C : Ser casado\n",
        "D : Assistir o jogo ao Domingo\n",
        "\n",
        "- B -> C\n",
        "- ¬R -> A\n",
        "- C -> ¬D\n",
        "- D <-> R\n",
        "- B ∨ ¬A\n",
        "- R -> B"
      ]
    },
    {
      "cell_type": "markdown",
      "metadata": {
        "id": "uK4IIs62llyI"
      },
      "source": [
        "- B -> C <=> ¬B ∨ C\n",
        "- ¬R -> A <=> R ∨ A\n",
        "- C -> ¬D <=> ¬C ∨ ¬D\n",
        "- D <-> R <=> (D ∨ ¬R) ^ (¬D ∨ R)\n",
        "- B ∨ ¬A\n",
        "- R -> B <=> ¬R ∨ B\n"
      ]
    },
    {
      "cell_type": "code",
      "metadata": {
        "colab": {
          "base_uri": "https://localhost:8080/"
        },
        "id": "xdBj10yjIuaV",
        "outputId": "5b3bd656-a042-491a-9337-52232abe875e"
      },
      "source": [
        "pip install python-sat"
      ],
      "execution_count": 2,
      "outputs": [
        {
          "output_type": "stream",
          "name": "stdout",
          "text": [
            "Collecting python-sat\n",
            "  Downloading python_sat-0.1.7.dev11-cp37-cp37m-manylinux2010_x86_64.whl (1.8 MB)\n",
            "\u001b[K     |████████████████████████████████| 1.8 MB 13.7 MB/s \n",
            "\u001b[?25hRequirement already satisfied: six in /usr/local/lib/python3.7/dist-packages (from python-sat) (1.15.0)\n",
            "Installing collected packages: python-sat\n",
            "Successfully installed python-sat-0.1.7.dev11\n"
          ]
        }
      ]
    },
    {
      "cell_type": "code",
      "metadata": {
        "colab": {
          "base_uri": "https://localhost:8080/"
        },
        "id": "rLj3j2p4KfhJ",
        "outputId": "812c447b-61e8-429e-b7cc-78e41b75ac88"
      },
      "source": [
        "from pysat.solvers import Minisat22\n",
        "\n",
        "s = Minisat22()\n",
        "condi = ['Amarela', 'Ribeirão', 'Bigode', 'Casado', 'Domingo']\n",
        "x = {}\n",
        "c = 1\n",
        "for d in condi:\n",
        "  x[d] = c\n",
        "  c += 1\n",
        "\n",
        "s.add_clause([-x['Bigode'], x['Casado']])\n",
        "s.add_clause([x['Ribeirão'], x['Amarela']])\n",
        "s.add_clause([-x['Casado'], -x['Domingo']])\n",
        "s.add_clause([x['Domingo'],-x['Ribeirão']])\n",
        "s.add_clause([-x['Domingo'],x['Ribeirão']])\n",
        "s.add_clause([x['Bigode'], -x['Amarela']])\n",
        "s.add_clause([-x['Ribeirão'], x['Bigode']])\n",
        "\n",
        "'''if s.solve():\n",
        "  m = s.get_model()\n",
        "  print(m)\n",
        "  for w in condi:\n",
        "    if m[x[w]-1] > 0:\n",
        "      print(\"%s\" % w)\n",
        "'''\n",
        "if s.solve([-x['Bigode'],-x['Domingo']]):\n",
        "  print(\"True\")\n",
        "else:\n",
        "  print(\"False\")"
      ],
      "execution_count": 7,
      "outputs": [
        {
          "output_type": "stream",
          "name": "stdout",
          "text": [
            "False\n"
          ]
        }
      ]
    }
  ]
}